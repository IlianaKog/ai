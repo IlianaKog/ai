{
 "cells": [
  {
   "cell_type": "code",
   "execution_count": 1,
   "id": "59d863ce-8887-4903-977b-437b5773043a",
   "metadata": {},
   "outputs": [],
   "source": [
    "import openai\n",
    "import config"
   ]
  },
  {
   "cell_type": "code",
   "execution_count": 2,
   "id": "5034c304-c035-40ab-8803-959590624541",
   "metadata": {},
   "outputs": [],
   "source": [
    "api_key = config.api_key\n",
    "openai.api_key = api_key"
   ]
  },
  {
   "cell_type": "code",
   "execution_count": 4,
   "id": "e82c6463-2eae-49e2-ac11-84d08a7a94cb",
   "metadata": {},
   "outputs": [],
   "source": [
    "# Generating Text"
   ]
  },
  {
   "cell_type": "code",
   "execution_count": 3,
   "id": "68fa9280-d30a-4156-9596-7c99a2cd81ba",
   "metadata": {},
   "outputs": [
    {
     "name": "stdout",
     "output_type": "stream",
     "text": [
      "Hi , I'm James, and I love to play guitar\n"
     ]
    }
   ],
   "source": [
    "def generate_text(prompt):\n",
    "    response = openai.Completion.create(\n",
    "        engine=\"gpt-4o-mini\",\n",
    "        prompt=prompt,\n",
    "        max_tokens=10,\n",
    "        temperature=0.7)\n",
    "    return response.choices[0].text.strip()\n",
    "    \n",
    "prompt = \"Hi\"\n",
    "generated_txt = generate_text(prompt)\n",
    "print(prompt, generated_txt)"
   ]
  },
  {
   "cell_type": "code",
   "execution_count": 8,
   "id": "687aa418-2ca2-427a-86f8-3aeee79a6151",
   "metadata": {},
   "outputs": [
    {
     "name": "stdout",
     "output_type": "stream",
     "text": [
      "Hi to all! I am a new member and I am looking forward to learning more about the world of photography. I have a Canon 60D and I am looking to improve my skills. I am particularly interested in portrait photography and would love to hear\n"
     ]
    }
   ],
   "source": [
    "# Customizing the Output\n",
    "def generate_text(prompt, temperature, max_tokens):\n",
    "    response = openai.Completion.create(\n",
    "        engine=\"gpt-4o-mini\",\n",
    "        prompt=prompt,\n",
    "        max_tokens=max_tokens,\n",
    "        temperature=temperature)\n",
    "    return response.choices[0].text.strip()\n",
    "    \n",
    "prompt = \"Hi\"\n",
    "generated_txt = generate_text(prompt, 0, 50)\n",
    "print(prompt, generated_txt)\n"
   ]
  },
  {
   "cell_type": "code",
   "execution_count": null,
   "id": "339b47b1-7ca9-4064-8fca-719a44443690",
   "metadata": {},
   "outputs": [],
   "source": []
  }
 ],
 "metadata": {
  "kernelspec": {
   "display_name": "Python 3 (ipykernel)",
   "language": "python",
   "name": "python3"
  },
  "language_info": {
   "codemirror_mode": {
    "name": "ipython",
    "version": 3
   },
   "file_extension": ".py",
   "mimetype": "text/x-python",
   "name": "python",
   "nbconvert_exporter": "python",
   "pygments_lexer": "ipython3",
   "version": "3.11.13"
  }
 },
 "nbformat": 4,
 "nbformat_minor": 5
}
