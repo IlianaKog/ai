{
 "cells": [
  {
   "cell_type": "code",
   "execution_count": 28,
   "id": "1c15b5a4-1182-4b15-83e1-df7080dde099",
   "metadata": {},
   "outputs": [],
   "source": [
    "# Langchain\n",
    "from langchain.document_loaders import WebBaseLoader\n",
    "from langchain.text_splitter import RecursiveCharacterTextSplitter\n",
    "from langchain.embeddings import OpenAIEmbeddings\n",
    "from langchain.vectorstores import FAISS\n",
    "from langchain.memory import ConversationBufferMemory\n",
    "from langchain.llms import OpenAI\n",
    "from langchain.chains import ConversationalRetrievalChain\n",
    "from langchain.chat_models import ChatOpenAI\n",
    "import openai\n",
    "import config"
   ]
  },
  {
   "cell_type": "code",
   "execution_count": 29,
   "id": "8fd690b1-2dc7-409f-aa01-c27781269178",
   "metadata": {},
   "outputs": [],
   "source": [
    "api_key = config.api_key\n",
    "openai.api_key = api_key"
   ]
  },
  {
   "cell_type": "code",
   "execution_count": 30,
   "id": "95e5ccd4-034a-4346-82b6-7707303e010c",
   "metadata": {},
   "outputs": [],
   "source": [
    "url = \"https://wttr.in/Thessaloniki?format=3\""
   ]
  },
  {
   "cell_type": "code",
   "execution_count": 31,
   "id": "1ff52fda-4162-4067-80e4-ac3011f9d91f",
   "metadata": {},
   "outputs": [],
   "source": [
    "loader = WebBaseLoader(url)\n",
    "raw_docs = loader.load()"
   ]
  },
  {
   "cell_type": "code",
   "execution_count": 32,
   "id": "845da8e0-fa87-405b-aebf-cc64c629a8e4",
   "metadata": {},
   "outputs": [],
   "source": [
    "text_splitter = RecursiveCharacterTextSplitter()\n",
    "docs = text_splitter.split_documents(raw_docs)"
   ]
  },
  {
   "cell_type": "code",
   "execution_count": 33,
   "id": "6201f2e0-5522-45d6-8786-1ff35d6fddf4",
   "metadata": {},
   "outputs": [],
   "source": [
    "#text into vectors\n",
    "# embeddings = OpenAIEmbeddings(openai_api_key = api_key)\n",
    "\n",
    "from langchain.embeddings import HuggingFaceEmbeddings\n",
    "# we use instead a free model from HuggingFace (runs locally)\n",
    "embeddings = HuggingFaceEmbeddings(model_name = \"sentence-transformers/all-MiniLM-L6-v2\")"
   ]
  },
  {
   "cell_type": "code",
   "execution_count": 34,
   "id": "e1b3b650-6f4b-41c5-8194-fb1547a9d80c",
   "metadata": {},
   "outputs": [],
   "source": [
    "vectorstore = FAISS.from_documents(docs, embeddings)"
   ]
  },
  {
   "cell_type": "code",
   "execution_count": 35,
   "id": "bce5fa46-47c4-4b6f-9028-e67e538c7e86",
   "metadata": {},
   "outputs": [],
   "source": [
    "memory = ConversationBufferMemory(memory_key = \"chat_history\", return_messages=True)"
   ]
  },
  {
   "cell_type": "code",
   "execution_count": 36,
   "id": "0dff922c-6859-4122-ace4-40bf3c0f554c",
   "metadata": {},
   "outputs": [],
   "source": [
    "from langchain.prompts import SystemMessagePromptTemplate, ChatPromptTemplate\n",
    "\n",
    "# Optional: force English\n",
    "system_message = SystemMessagePromptTemplate.from_template(\n",
    "    \"You are a helpful assistant that always answers in English.\"\n",
    ")"
   ]
  },
  {
   "cell_type": "code",
   "execution_count": 37,
   "id": "5ec095d3-3aa9-430d-8818-e79a0d80215c",
   "metadata": {},
   "outputs": [],
   "source": [
    "qa = ConversationalRetrievalChain.from_llm(ChatOpenAI(openai_api_key = api_key, \n",
    "                                                  model = \"gpt-4o-mini\", \n",
    "                                                  temperature = 0), \n",
    "                                           vectorstore.as_retriever(), \n",
    "                                           memory = memory)\n"
   ]
  },
  {
   "cell_type": "code",
   "execution_count": 38,
   "id": "84d1fcc4-76fe-43d5-8adf-f052707295f6",
   "metadata": {},
   "outputs": [],
   "source": [
    "query = \"What's the weather in Thessaloniki at the moment?\""
   ]
  },
  {
   "cell_type": "code",
   "execution_count": 39,
   "id": "22dd2c6b-41fb-49cd-8dc9-47f210e8b51a",
   "metadata": {},
   "outputs": [
    {
     "name": "stdout",
     "output_type": "stream",
     "text": [
      "The weather in Thessaloniki at the moment is sunny with a temperature of +18°C.\n"
     ]
    }
   ],
   "source": [
    "#result = qa({\"question\": query})\n",
    "result = qa.invoke({\"question\": query})\n",
    "print(result[\"answer\"])\n"
   ]
  },
  {
   "cell_type": "code",
   "execution_count": 40,
   "id": "a55b0a3e-2b79-49d0-9ce5-5dbbd02ee972",
   "metadata": {},
   "outputs": [
    {
     "data": {
      "text/plain": [
       "'The weather in Thessaloniki at the moment is sunny with a temperature of +18°C.'"
      ]
     },
     "execution_count": 40,
     "metadata": {},
     "output_type": "execute_result"
    }
   ],
   "source": [
    "result[\"answer\"]"
   ]
  },
  {
   "cell_type": "code",
   "execution_count": 41,
   "id": "dc936c44-f015-46a6-9732-db86c955edca",
   "metadata": {},
   "outputs": [
    {
     "name": "stdout",
     "output_type": "stream",
     "text": [
      "Thessaloniki: ☀️   +18°C\n"
     ]
    }
   ],
   "source": [
    "docs = vectorstore.as_retriever().get_relevant_documents(\"What is the weather?\")\n",
    "print(docs[0].page_content[:250])\n"
   ]
  },
  {
   "cell_type": "code",
   "execution_count": null,
   "id": "ba137503-330b-4f57-a428-bc3194415459",
   "metadata": {},
   "outputs": [],
   "source": []
  }
 ],
 "metadata": {
  "kernelspec": {
   "display_name": "Python 3 (ipykernel)",
   "language": "python",
   "name": "python3"
  },
  "language_info": {
   "codemirror_mode": {
    "name": "ipython",
    "version": 3
   },
   "file_extension": ".py",
   "mimetype": "text/x-python",
   "name": "python",
   "nbconvert_exporter": "python",
   "pygments_lexer": "ipython3",
   "version": "3.11.13"
  }
 },
 "nbformat": 4,
 "nbformat_minor": 5
}
